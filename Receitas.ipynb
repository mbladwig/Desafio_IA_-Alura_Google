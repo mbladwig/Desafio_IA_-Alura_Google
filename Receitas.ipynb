{
  "nbformat": 4,
  "nbformat_minor": 0,
  "metadata": {
    "colab": {
      "provenance": [],
      "authorship_tag": "ABX9TyMzwt+Z7CwcETou9Jer3rX/",
      "include_colab_link": true
    },
    "kernelspec": {
      "name": "python3",
      "display_name": "Python 3"
    },
    "language_info": {
      "name": "python"
    }
  },
  "cells": [
    {
      "cell_type": "markdown",
      "metadata": {
        "id": "view-in-github",
        "colab_type": "text"
      },
      "source": [
        "<a href=\"https://colab.research.google.com/github/mbladwig/Desafio_IA_Alura_Google/blob/main/Receitas.ipynb\" target=\"_parent\"><img src=\"https://colab.research.google.com/assets/colab-badge.svg\" alt=\"Open In Colab\"/></a>"
      ]
    },
    {
      "cell_type": "code",
      "execution_count": 28,
      "metadata": {
        "colab": {
          "base_uri": "https://localhost:8080/"
        },
        "id": "XRgJ11YH90KG",
        "outputId": "81af5d2a-fa4d-4d01-c607-6aec556d0952"
      },
      "outputs": [
        {
          "output_type": "stream",
          "name": "stdout",
          "text": [
            "Informe a quantidade de sugestões de receitas que você quer: 0\n",
            "\n",
            "## Fim ##\n"
          ]
        }
      ],
      "source": [
        "# Instalando o SDK do Google!\n",
        "!pip install -q -U google-generativeai\n",
        "\n",
        "# Configurações iniciais\n",
        "from google.colab import userdata\n",
        "import google.generativeai as genai\n",
        "\n",
        "# Obtendo a chave da API a partir dos dados do usuário\n",
        "api_key = userdata.get('API_KEY_1')\n",
        "\n",
        "# Configurando o SDK do Google Generative AI com a chave da API\n",
        "genai.configure(api_key=api_key)\n",
        "\n",
        "# Definindo as configurações de geração de texto\n",
        "generation_config = {\n",
        "    \"candidate_count\": 1,  # Número de candidatos a serem gerados\n",
        "    \"temperature\": 0.5,  # Controla a criatividade da geração (0.0 - 1.0)\n",
        "}\n",
        "\n",
        "# Definindo as configurações de segurança para bloquear conteúdo inadequado\n",
        "safety_settings = {\n",
        "    'HATE': 'BLOCK_NONE',  # Não bloquear conteúdo de ódio\n",
        "    'HARASSMENT': 'BLOCK_NONE',  # Não bloquear conteúdo de assédio\n",
        "    'SEXUAL': 'BLOCK_NONE',  # Não bloquear conteúdo sexual\n",
        "    'DANGEROUS': 'BLOCK_NONE'  # Não bloquear conteúdo perigoso\n",
        "}\n",
        "\n",
        "# Carregando o modelo de linguagem \"gemini-1.5-pro-latest\"\n",
        "model = genai.GenerativeModel(\n",
        "    model_name=\"gemini-1.5-pro-latest\",\n",
        "    generation_config=generation_config,  # Usando as configurações de geração definidas\n",
        "    safety_settings=safety_settings  # Usando as configurações de segurança definidas\n",
        ")\n",
        "\n",
        "# Inicializando as variáveis para as entradas do usuário\n",
        "QuantidadeReceitas = 2  # Inicializa a quantidade de receitas com 2\n",
        "TempoPreparo = 15  # Inicializa o tempo de preparo com 15 minutos\n",
        "Ingredientes = \"Beringela, parmesão e tomate.\"  # Inicializa os ingredientes\n",
        "\n",
        "# Loop para solicitar entradas do usuário até que ele insira 0 para a quantidade de receitas\n",
        "while int(QuantidadeReceitas) > 0:\n",
        "    QuantidadeReceitas = input(\"Informe a quantidade de sugestões de receitas que você quer: \")\n",
        "    # Verifica se a quantidade de receitas é maior que 0\n",
        "    if int(QuantidadeReceitas) > 0:\n",
        "        TempoPreparo = input(\"Informe o tempo máximo de preparo das receitas: \")\n",
        "        Ingredientes = input(\"Informe os ingredientes que devem conter nas receitas: \")\n",
        "\n",
        "        # Monta a solicitação para o modelo de linguagem\n",
        "        Solicitacao = \"Faça sugestões de receitas que devem ser de fácil preparo. As receitas devem ter o tempo de preparo menor ou igual a \" + TempoPreparo + \" minutos.\" + \"A quantidade de receitas sugeridas deve ser igual a \" + QuantidadeReceitas + \" e deve conter o seguintes ingredientes: \" + Ingredientes\n",
        "\n",
        "        # Gera o conteúdo da resposta usando o modelo de linguagem\n",
        "        response = model.generate_content(Solicitacao)\n",
        "\n",
        "        # Imprime a resposta gerada\n",
        "        print(\"\\n\")\n",
        "        print(\"Sugestões Geradas.\")\n",
        "        print(\"\\n\")\n",
        "        print(response.text)\n",
        "        print(\"\\n\")\n",
        "    else:\n",
        "        # Sai do loop se a quantidade de receitas for 0\n",
        "        break\n",
        "\n",
        "# Imprime a mensagem de fim do programa\n",
        "print(\"\\n\" + \"## Fim ##\")"
      ]
    }
  ]
}