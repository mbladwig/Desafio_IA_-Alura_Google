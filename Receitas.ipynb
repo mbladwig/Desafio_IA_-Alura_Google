{
  "nbformat": 4,
  "nbformat_minor": 0,
  "metadata": {
    "colab": {
      "provenance": [],
      "authorship_tag": "ABX9TyM3jDVyXDatGNM4I8YiscUU",
      "include_colab_link": true
    },
    "kernelspec": {
      "name": "python3",
      "display_name": "Python 3"
    },
    "language_info": {
      "name": "python"
    }
  },
  "cells": [
    {
      "cell_type": "markdown",
      "metadata": {
        "id": "view-in-github",
        "colab_type": "text"
      },
      "source": [
        "<a href=\"https://colab.research.google.com/github/mbladwig/Desafio_IA_Alura_Google/blob/main/Receitas.ipynb\" target=\"_parent\"><img src=\"https://colab.research.google.com/assets/colab-badge.svg\" alt=\"Open In Colab\"/></a>"
      ]
    },
    {
      "cell_type": "code",
      "execution_count": null,
      "metadata": {
        "id": "XRgJ11YH90KG"
      },
      "outputs": [],
      "source": [
        "#Instalando o SDK do Google\n",
        "\n",
        "!pip install -q -U google-generativeai\n",
        "\n",
        "#Configurações iniciais\n",
        "from google.colab import userdata\n",
        "\n",
        "import google.generativeai as genai\n",
        "api_key = userdata.get('API_KEY_1')\n",
        "genai.configure(api_key=api_key)\n",
        "\n",
        "generation_config = {\n",
        "  \"candidate_count\": 1,\n",
        "  \"temperature\": 0.5,\n",
        "}\n",
        "\n",
        "safety_settings={\n",
        "    'HATE': 'BLOCK_NONE',\n",
        "    'HARASSMENT': 'BLOCK_NONE',\n",
        "    'SEXUAL' : 'BLOCK_NONE',\n",
        "    'DANGEROUS' : 'BLOCK_NONE'\n",
        "    }\n",
        "\n",
        "model = genai.GenerativeModel(model_name=\"gemini-1.5-pro-latest\",\n",
        "                              generation_config=generation_config,\n",
        "                              safety_settings=safety_settings,)\n",
        "\n",
        "\n",
        "QuantidadeReceitas = 2\n",
        "TempoPreparo = 15\n",
        "Ingredientes = \"Beringela, parmesão e tomate.\"\n",
        "\n",
        "while int(QuantidadeReceitas) > 0:\n",
        "  QuantidadeReceitas = input(\"Informe a quantidade de sugestões de receitas que você quer: \")\n",
        "  if int(QuantidadeReceitas) > 0:\n",
        "    TempoPreparo = input(\"Informe o tempo máximo de preparo das receitas: \")\n",
        "    Ingredientes = input(\"Informe os ingredientes que devem conter nas receitas: \")\n",
        "\n",
        "    Solicitacao = \"Faça sugestões de receitas que devem ser de fácil preparo. As receitas devem ter o tempo de preparo menor ou igual a \" + TempoPreparo + \" minutos.\" + \"A quantidade de receitas sugeridas deve ser igual a \" + QuantidadeReceitas + \" e deve conter o seguintes ingredientes: \" + Ingredientes\n",
        "\n",
        "    response = model.generate_content(Solicitacao)\n",
        "    print(\"\\n\")\n",
        "    print(\"Sugestões Geradas.\")\n",
        "    print(\"\\n\")\n",
        "    print(response.text)\n",
        "    print(\"\\n\")\n",
        "  else:\n",
        "    break\n",
        "print(\"\\n\"+\"## Fim ##\")"
      ]
    }
  ]
}