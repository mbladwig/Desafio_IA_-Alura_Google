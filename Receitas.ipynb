{
  "nbformat": 4,
  "nbformat_minor": 0,
  "metadata": {
    "colab": {
      "provenance": [],
      "authorship_tag": "ABX9TyOVwK9nhyT6lZ0Z1TpyDjuq",
      "include_colab_link": true
    },
    "kernelspec": {
      "name": "python3",
      "display_name": "Python 3"
    },
    "language_info": {
      "name": "python"
    }
  },
  "cells": [
    {
      "cell_type": "markdown",
      "metadata": {
        "id": "view-in-github",
        "colab_type": "text"
      },
      "source": [
        "<a href=\"https://colab.research.google.com/github/mbladwig/Desafio_IA_Alura_Google/blob/main/Receitas.ipynb\" target=\"_parent\"><img src=\"https://colab.research.google.com/assets/colab-badge.svg\" alt=\"Open In Colab\"/></a>"
      ]
    },
    {
      "cell_type": "code",
      "execution_count": 1,
      "metadata": {
        "colab": {
          "base_uri": "https://localhost:8080/",
          "height": 1000
        },
        "id": "XRgJ11YH90KG",
        "outputId": "107ba752-8b3a-45cc-8362-c15e3f397dbb"
      },
      "outputs": [
        {
          "metadata": {
            "tags": null
          },
          "name": "stdout",
          "output_type": "stream",
          "text": [
            "\n",
            "\n",
            "Sugestões Geradas.\n",
            "\n",
            "\n",
            "## Duas Receitas Rápidas com Maçã, Canela e Leite Condensado (20 minutos ou menos):\n",
            "\n",
            "**1. Canecas de Maçã com Canela e Leite Condensado:**\n",
            "\n",
            "**Tempo de Preparo:** 15 minutos\n",
            "\n",
            "**Ingredientes:**\n",
            "\n",
            "* 1 maçã média, descascada e picada\n",
            "* 1 colher de sopa de manteiga\n",
            "* 1/2 colher de chá de canela em pó\n",
            "* 2 colheres de sopa de açúcar (opcional, ajuste ao seu gosto)\n",
            "* 1/4 xícara de leite condensado\n",
            "* 1/4 xícara de água\n",
            "* 1/4 xícara de farinha de trigo\n",
            "* 1 pitada de sal\n",
            "\n",
            "**Preparo:**\n",
            "\n",
            "1. Em uma panela pequena, derreta a manteiga em fogo médio. Adicione a maçã picada, a canela em pó e o açúcar (se usar). Cozinhe por cerca de 5 minutos, mexendo ocasionalmente, até que a maçã esteja macia.\n",
            "2. Em uma tigela separada, misture o leite condensado, a água, a farinha de trigo e o sal. Misture bem até obter uma massa lisa.\n",
            "3. Despeje a mistura de leite condensado sobre a maçã cozida na panela. Cozinhe em fogo baixo, mexendo sempre, até engrossar, cerca de 2 minutos.\n",
            "4. Divida o recheio entre duas canecas. Sirva quente.\n",
            "\n",
            "**Dica:** Você pode adicionar granola, nozes picadas ou uma bola de sorvete para complementar a receita.\n",
            "\n",
            "**2. Maçã Assada com Canela e Leite Condensado:**\n",
            "\n",
            "**Tempo de Preparo:** 20 minutos\n",
            "\n",
            "**Ingredientes:**\n",
            "\n",
            "* 1 maçã grande\n",
            "* 1 colher de sopa de manteiga\n",
            "* 1 colher de chá de canela em pó\n",
            "* 2 colheres de sopa de leite condensado\n",
            "\n",
            "**Preparo:**\n",
            "\n",
            "1. Pré-aqueça o forno a 180°C.\n",
            "2. Lave a maçã e corte a parte superior, criando uma \"tampa\". Com uma colher, retire o miolo da maçã, deixando uma cavidade.\n",
            "3. Em uma tigela pequena, misture a manteiga derretida, a canela em pó e o leite condensado.\n",
            "4. Despeje a mistura de leite condensado na cavidade da maçã.\n",
            "5. Coloque a \"tampa\" da maçã de volta no lugar.\n",
            "6. Coloque a maçã em um refratário pequeno e leve ao forno por 15-20 minutos, ou até que a maçã esteja macia.\n",
            "7. Sirva quente.\n",
            "\n",
            "**Dica:** Você pode adicionar uvas passas, nozes picadas ou coco ralado à mistura de leite condensado para um sabor extra.\n",
            "\n",
            "\n"
          ]
        },
        {
          "output_type": "error",
          "ename": "KeyboardInterrupt",
          "evalue": "Interrupted by user",
          "traceback": [
            "\u001b[0;31m---------------------------------------------------------------------------\u001b[0m",
            "\u001b[0;31mKeyboardInterrupt\u001b[0m                         Traceback (most recent call last)",
            "\u001b[0;32m<ipython-input-1-b5dc62f3dbe3>\u001b[0m in \u001b[0;36m<cell line: 41>\u001b[0;34m()\u001b[0m\n\u001b[1;32m     40\u001b[0m \u001b[0;31m# Loop para solicitar entradas do usuário até que ele insira 0 para a quantidade de receitas\u001b[0m\u001b[0;34m\u001b[0m\u001b[0;34m\u001b[0m\u001b[0m\n\u001b[1;32m     41\u001b[0m \u001b[0;32mwhile\u001b[0m \u001b[0mint\u001b[0m\u001b[0;34m(\u001b[0m\u001b[0mQuantidadeReceitas\u001b[0m\u001b[0;34m)\u001b[0m \u001b[0;34m>\u001b[0m \u001b[0;36m0\u001b[0m\u001b[0;34m:\u001b[0m\u001b[0;34m\u001b[0m\u001b[0;34m\u001b[0m\u001b[0m\n\u001b[0;32m---> 42\u001b[0;31m     \u001b[0mQuantidadeReceitas\u001b[0m \u001b[0;34m=\u001b[0m \u001b[0minput\u001b[0m\u001b[0;34m(\u001b[0m\u001b[0;34m\"Informe a quantidade de sugestões de receitas que você quer: \"\u001b[0m\u001b[0;34m)\u001b[0m\u001b[0;34m\u001b[0m\u001b[0;34m\u001b[0m\u001b[0m\n\u001b[0m\u001b[1;32m     43\u001b[0m     \u001b[0;31m# Verifica se a quantidade de receitas é maior que 0\u001b[0m\u001b[0;34m\u001b[0m\u001b[0;34m\u001b[0m\u001b[0m\n\u001b[1;32m     44\u001b[0m     \u001b[0;32mif\u001b[0m \u001b[0mint\u001b[0m\u001b[0;34m(\u001b[0m\u001b[0mQuantidadeReceitas\u001b[0m\u001b[0;34m)\u001b[0m \u001b[0;34m>\u001b[0m \u001b[0;36m0\u001b[0m\u001b[0;34m:\u001b[0m\u001b[0;34m\u001b[0m\u001b[0;34m\u001b[0m\u001b[0m\n",
            "\u001b[0;32m/usr/local/lib/python3.10/dist-packages/ipykernel/kernelbase.py\u001b[0m in \u001b[0;36mraw_input\u001b[0;34m(self, prompt)\u001b[0m\n\u001b[1;32m    849\u001b[0m                 \u001b[0;34m\"raw_input was called, but this frontend does not support input requests.\"\u001b[0m\u001b[0;34m\u001b[0m\u001b[0;34m\u001b[0m\u001b[0m\n\u001b[1;32m    850\u001b[0m             )\n\u001b[0;32m--> 851\u001b[0;31m         return self._input_request(str(prompt),\n\u001b[0m\u001b[1;32m    852\u001b[0m             \u001b[0mself\u001b[0m\u001b[0;34m.\u001b[0m\u001b[0m_parent_ident\u001b[0m\u001b[0;34m,\u001b[0m\u001b[0;34m\u001b[0m\u001b[0;34m\u001b[0m\u001b[0m\n\u001b[1;32m    853\u001b[0m             \u001b[0mself\u001b[0m\u001b[0;34m.\u001b[0m\u001b[0m_parent_header\u001b[0m\u001b[0;34m,\u001b[0m\u001b[0;34m\u001b[0m\u001b[0;34m\u001b[0m\u001b[0m\n",
            "\u001b[0;32m/usr/local/lib/python3.10/dist-packages/ipykernel/kernelbase.py\u001b[0m in \u001b[0;36m_input_request\u001b[0;34m(self, prompt, ident, parent, password)\u001b[0m\n\u001b[1;32m    893\u001b[0m             \u001b[0;32mexcept\u001b[0m \u001b[0mKeyboardInterrupt\u001b[0m\u001b[0;34m:\u001b[0m\u001b[0;34m\u001b[0m\u001b[0;34m\u001b[0m\u001b[0m\n\u001b[1;32m    894\u001b[0m                 \u001b[0;31m# re-raise KeyboardInterrupt, to truncate traceback\u001b[0m\u001b[0;34m\u001b[0m\u001b[0;34m\u001b[0m\u001b[0m\n\u001b[0;32m--> 895\u001b[0;31m                 \u001b[0;32mraise\u001b[0m \u001b[0mKeyboardInterrupt\u001b[0m\u001b[0;34m(\u001b[0m\u001b[0;34m\"Interrupted by user\"\u001b[0m\u001b[0;34m)\u001b[0m \u001b[0;32mfrom\u001b[0m \u001b[0;32mNone\u001b[0m\u001b[0;34m\u001b[0m\u001b[0;34m\u001b[0m\u001b[0m\n\u001b[0m\u001b[1;32m    896\u001b[0m             \u001b[0;32mexcept\u001b[0m \u001b[0mException\u001b[0m \u001b[0;32mas\u001b[0m \u001b[0me\u001b[0m\u001b[0;34m:\u001b[0m\u001b[0;34m\u001b[0m\u001b[0;34m\u001b[0m\u001b[0m\n\u001b[1;32m    897\u001b[0m                 \u001b[0mself\u001b[0m\u001b[0;34m.\u001b[0m\u001b[0mlog\u001b[0m\u001b[0;34m.\u001b[0m\u001b[0mwarning\u001b[0m\u001b[0;34m(\u001b[0m\u001b[0;34m\"Invalid Message:\"\u001b[0m\u001b[0;34m,\u001b[0m \u001b[0mexc_info\u001b[0m\u001b[0;34m=\u001b[0m\u001b[0;32mTrue\u001b[0m\u001b[0;34m)\u001b[0m\u001b[0;34m\u001b[0m\u001b[0;34m\u001b[0m\u001b[0m\n",
            "\u001b[0;31mKeyboardInterrupt\u001b[0m: Interrupted by user"
          ]
        }
      ],
      "source": [
        "# Instalando o SDK do Google!\n",
        "!pip install -q -U google-generativeai\n",
        "\n",
        "# Configurações iniciais\n",
        "from google.colab import userdata\n",
        "import google.generativeai as genai\n",
        "\n",
        "# Obtendo a chave da API a partir dos dados do usuário\n",
        "api_key = userdata.get('API_KEY_1')\n",
        "\n",
        "# Configurando o SDK do Google Generative AI com a chave da API\n",
        "genai.configure(api_key=api_key)\n",
        "\n",
        "# Definindo as configurações de geração de texto\n",
        "generation_config = {\n",
        "    \"candidate_count\": 1,  # Número de candidatos a serem gerados\n",
        "    \"temperature\": 0.5,  # Controla a criatividade da geração (0.0 - 1.0)\n",
        "}\n",
        "\n",
        "# Definindo as configurações de segurança para bloquear conteúdo inadequado\n",
        "safety_settings = {\n",
        "    'HATE': 'BLOCK_NONE',  # Não bloquear conteúdo de ódio\n",
        "    'HARASSMENT': 'BLOCK_NONE',  # Não bloquear conteúdo de assédio\n",
        "    'SEXUAL': 'BLOCK_NONE',  # Não bloquear conteúdo sexual\n",
        "    'DANGEROUS': 'BLOCK_NONE'  # Não bloquear conteúdo perigoso\n",
        "}\n",
        "\n",
        "# Carregando o modelo de linguagem \"gemini-1.5-pro-latest\"\n",
        "model = genai.GenerativeModel(\n",
        "    model_name=\"gemini-1.5-pro-latest\",\n",
        "    generation_config=generation_config,  # Usando as configurações de geração definidas\n",
        "    safety_settings=safety_settings  # Usando as configurações de segurança definidas\n",
        ")\n",
        "\n",
        "# Inicializando as variáveis para as entradas do usuário\n",
        "QuantidadeReceitas = 2  # Inicializa a quantidade de receitas com 2\n",
        "TempoPreparo = 15  # Inicializa o tempo de preparo com 15 minutos\n",
        "Ingredientes = \"Beringela, parmesão e tomate.\"  # Inicializa os ingredientes\n",
        "\n",
        "# Loop para solicitar entradas do usuário até que ele insira 0 para a quantidade de receitas\n",
        "while int(QuantidadeReceitas) > 0:\n",
        "    QuantidadeReceitas = input(\"Informe a quantidade de sugestões de receitas que você quer: \")\n",
        "    # Verifica se a quantidade de receitas é maior que 0\n",
        "    if int(QuantidadeReceitas) > 0:\n",
        "        TempoPreparo = input(\"Informe o tempo máximo de preparo das receitas: \")\n",
        "        Ingredientes = input(\"Informe os ingredientes que devem conter nas receitas: \")\n",
        "\n",
        "        # Monta a solicitação para o modelo de linguagem\n",
        "        Solicitacao = \"Faça sugestões de receitas que devem ser de fácil preparo. As receitas devem ter o tempo de preparo menor ou igual a \" + TempoPreparo + \" minutos.\" + \"A quantidade de receitas sugeridas deve ser igual a \" + QuantidadeReceitas + \" e deve conter o seguintes ingredientes: \" + Ingredientes\n",
        "        print(\"\\n\")\n",
        "        print(\"Aguarde, gerando sugestõe de receitasSugestões Geradas.\")\n",
        "        print(\"\\n\")\n",
        "        # Gera o conteúdo da resposta usando o modelo de linguagem\n",
        "        response = model.generate_content(Solicitacao)\n",
        "\n",
        "        # Imprime a resposta gerada\n",
        "        print(\"\\n\")\n",
        "        print(\"Sugestões Geradas.\")\n",
        "        print(\"\\n\")\n",
        "        print(response.text)\n",
        "        print(\"\\n\")\n",
        "    else:\n",
        "        # Sai do loop se a quantidade de receitas for 0\n",
        "        break\n",
        "\n",
        "# Imprime a mensagem de fim do programa\n",
        "print(\"\\n\" + \"## Fim ##\")"
      ]
    }
  ]
}